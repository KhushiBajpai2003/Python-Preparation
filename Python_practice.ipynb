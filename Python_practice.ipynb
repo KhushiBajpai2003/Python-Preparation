{
  "nbformat": 4,
  "nbformat_minor": 0,
  "metadata": {
    "colab": {
      "provenance": []
    },
    "kernelspec": {
      "name": "python3",
      "display_name": "Python 3"
    },
    "language_info": {
      "name": "python"
    }
  },
  "cells": [
    {
      "cell_type": "markdown",
      "source": [
        "**Python Basics**"
      ],
      "metadata": {
        "id": "1rxGMWxtNVd7"
      }
    },
    {
      "cell_type": "code",
      "execution_count": 1,
      "metadata": {
        "colab": {
          "base_uri": "https://localhost:8080/"
        },
        "id": "mi4aFjZM_8SA",
        "outputId": "9fb4c761-b1e8-4dd2-f95e-f254eb562002"
      },
      "outputs": [
        {
          "output_type": "stream",
          "name": "stdout",
          "text": [
            "hello world\n"
          ]
        }
      ],
      "source": [
        "print(\"hello world\")"
      ]
    },
    {
      "cell_type": "code",
      "source": [
        "name = \"Khushi\"\n",
        "age = 21\n",
        "price = 22.99\n",
        "a = None\n",
        "old = False\n",
        "print(type(name))\n",
        "print(type(age))\n",
        "print(type(price))\n",
        "print(type(a))\n",
        "print(type(old))"
      ],
      "metadata": {
        "colab": {
          "base_uri": "https://localhost:8080/"
        },
        "id": "9JX88C1ZBPlM",
        "outputId": "facb991a-ef24-4d32-b5b1-b87165075c91"
      },
      "execution_count": null,
      "outputs": [
        {
          "output_type": "stream",
          "name": "stdout",
          "text": [
            "<class 'str'>\n",
            "<class 'int'>\n",
            "<class 'float'>\n",
            "<class 'NoneType'>\n",
            "<class 'bool'>\n"
          ]
        }
      ]
    },
    {
      "cell_type": "code",
      "source": [
        "a = 5\n",
        "b = 6\n",
        "print(a+b)"
      ],
      "metadata": {
        "colab": {
          "base_uri": "https://localhost:8080/"
        },
        "id": "Dmh3sqrKJL4q",
        "outputId": "8ef547a9-12e3-420f-d575-3ebafbafb628"
      },
      "execution_count": null,
      "outputs": [
        {
          "output_type": "stream",
          "name": "stdout",
          "text": [
            "11\n"
          ]
        }
      ]
    },
    {
      "cell_type": "code",
      "source": [
        "a = 5           #Arithmetic operators\n",
        "b = 2\n",
        "sum = a+b\n",
        "diff = a-b\n",
        "mul = a*b\n",
        "div = a/b\n",
        "mod = a%b\n",
        "pw = a**b\n",
        "print(sum , diff , mul , div, mod, pw)"
      ],
      "metadata": {
        "colab": {
          "base_uri": "https://localhost:8080/"
        },
        "id": "x39AqUS_NPwE",
        "outputId": "73825cdf-5556-4c89-8267-9124a20cefea"
      },
      "execution_count": null,
      "outputs": [
        {
          "output_type": "stream",
          "name": "stdout",
          "text": [
            "7 3 10 2.5 1 25\n"
          ]
        }
      ]
    },
    {
      "cell_type": "code",
      "source": [
        "a = 10      # Comparison operators\n",
        "b = 20\n",
        "print(a>b)\n",
        "print(a<b)\n",
        "print(a==b)\n",
        "print(a!=b)\n",
        "print(a>=b)\n",
        "print(a<=b)"
      ],
      "metadata": {
        "colab": {
          "base_uri": "https://localhost:8080/"
        },
        "id": "MkMjky7kNUTC",
        "outputId": "1baf6e23-4dc0-4419-aa7a-6f00f7d0a7ae"
      },
      "execution_count": null,
      "outputs": [
        {
          "output_type": "stream",
          "name": "stdout",
          "text": [
            "False\n",
            "True\n",
            "False\n",
            "True\n",
            "False\n",
            "True\n"
          ]
        }
      ]
    },
    {
      "cell_type": "code",
      "source": [
        "num = 10    #Assignment operators\n",
        "num**= 5\n",
        "print(num)"
      ],
      "metadata": {
        "colab": {
          "base_uri": "https://localhost:8080/"
        },
        "id": "R-0sb_BdO5-W",
        "outputId": "9ce832d6-151a-4963-c82a-a5087955c60c"
      },
      "execution_count": null,
      "outputs": [
        {
          "output_type": "stream",
          "name": "stdout",
          "text": [
            "100000\n"
          ]
        }
      ]
    },
    {
      "cell_type": "code",
      "source": [
        "print(not False)  # Logical operators\n",
        "print(not True)\n",
        "val1 = True\n",
        "Val1 = True\n",
        "print(val1 and Val1)  #dono true hui toh true otherwise false\n",
        "print(val1 or Val1)   # dono false hui toh false otherwise true\n",
        "a = 50\n",
        "b = 30\n",
        "print ( (a==b)or(a<b))"
      ],
      "metadata": {
        "colab": {
          "base_uri": "https://localhost:8080/"
        },
        "id": "ROZZpqx4PaTP",
        "outputId": "76a26a8b-2370-404f-c015-605d94500e74"
      },
      "execution_count": null,
      "outputs": [
        {
          "output_type": "stream",
          "name": "stdout",
          "text": [
            "True\n",
            "False\n",
            "True\n",
            "True\n",
            "False\n"
          ]
        }
      ]
    },
    {
      "cell_type": "code",
      "source": [
        "a = int(\"2\")  #Type Casting\n",
        "b = 4.25\n",
        "print(type(a))\n",
        "print(a+b)"
      ],
      "metadata": {
        "id": "V5JUva5bQG1G",
        "colab": {
          "base_uri": "https://localhost:8080/"
        },
        "outputId": "593b5323-bf29-4518-c40a-2f6a65bf37d8"
      },
      "execution_count": 1,
      "outputs": [
        {
          "output_type": "stream",
          "name": "stdout",
          "text": [
            "<class 'int'>\n",
            "6.25\n"
          ]
        }
      ]
    },
    {
      "cell_type": "code",
      "source": [
        "name = input(\"Enter your name:\")   #Input Taking for String\n",
        "print(\"Hello\", name)"
      ],
      "metadata": {
        "colab": {
          "base_uri": "https://localhost:8080/"
        },
        "id": "FOkquZ9PEhZa",
        "outputId": "21b68141-af19-42ad-f464-127b0616edba"
      },
      "execution_count": 2,
      "outputs": [
        {
          "output_type": "stream",
          "name": "stdout",
          "text": [
            "Enter your name:Khushi\n",
            "Hello Khushi\n"
          ]
        }
      ]
    },
    {
      "cell_type": "code",
      "source": [
        "value = int(input(\"Enter your age:\")) # input for Integer\n",
        "print(type(value), value)"
      ],
      "metadata": {
        "colab": {
          "base_uri": "https://localhost:8080/"
        },
        "id": "luff_tR3Fx5x",
        "outputId": "9b5346a3-5d33-4a49-ecd7-e7e87d3d5a00"
      },
      "execution_count": 4,
      "outputs": [
        {
          "output_type": "stream",
          "name": "stdout",
          "text": [
            "Enter your age:21\n",
            "<class 'int'> 21\n"
          ]
        }
      ]
    },
    {
      "cell_type": "code",
      "source": [
        "a = int(input(\"enter a number:\"))\n",
        "b = int(input(\"enter a number:\"))\n",
        "sum = a+b\n",
        "print(\"sum\",sum)"
      ],
      "metadata": {
        "colab": {
          "base_uri": "https://localhost:8080/"
        },
        "id": "XRT2Pod1I1bf",
        "outputId": "778cbd1e-285b-40e1-f4c0-055df10be74a"
      },
      "execution_count": 7,
      "outputs": [
        {
          "output_type": "stream",
          "name": "stdout",
          "text": [
            "enter a number:1\n",
            "enter a number:2\n",
            "sum 3\n"
          ]
        }
      ]
    },
    {
      "cell_type": "code",
      "source": [
        "side = float(input(\"Enter the side of a square:\"))  # Input taking for Float\n",
        "area = side*side\n",
        "print(\"Area of a Square is :\",area)"
      ],
      "metadata": {
        "colab": {
          "base_uri": "https://localhost:8080/"
        },
        "id": "UEkdHUXcJmVG",
        "outputId": "19636f3b-16be-4886-9472-d2c53054767f"
      },
      "execution_count": 11,
      "outputs": [
        {
          "output_type": "stream",
          "name": "stdout",
          "text": [
            "Enter the side of a square:4\n",
            "Area of a Square is : 16.0\n"
          ]
        }
      ]
    },
    {
      "cell_type": "code",
      "source": [
        "num1 = float(input(\"Enter num1:\"))\n",
        "num2 = float(input(\"Enter num2:\"))\n",
        "avg = (num1+num2)/2\n",
        "print(\"The Average is :\",avg)"
      ],
      "metadata": {
        "colab": {
          "base_uri": "https://localhost:8080/"
        },
        "id": "dZq1gb0yKBZy",
        "outputId": "d071da73-793d-4bfd-8c47-eba836c86bfd"
      },
      "execution_count": 13,
      "outputs": [
        {
          "output_type": "stream",
          "name": "stdout",
          "text": [
            "Enter num1:16.5\n",
            "Enter num2:3.5\n",
            "The Average is : 10.0\n"
          ]
        }
      ]
    },
    {
      "cell_type": "code",
      "source": [
        "a = int(input(\"Enter a number:\"))\n",
        "b = int(input(\"Enter a number:\"))\n",
        "print(a>=b)\n"
      ],
      "metadata": {
        "colab": {
          "base_uri": "https://localhost:8080/"
        },
        "id": "vtebIQNOKuON",
        "outputId": "a645c506-9960-4e8f-a41f-1de4b9088104"
      },
      "execution_count": 3,
      "outputs": [
        {
          "output_type": "stream",
          "name": "stdout",
          "text": [
            "Enter a number:2\n",
            "Enter a number:10\n",
            "False\n"
          ]
        }
      ]
    },
    {
      "cell_type": "code",
      "source": [],
      "metadata": {
        "id": "ocXsZOU8LXrG"
      },
      "execution_count": null,
      "outputs": []
    }
  ]
}