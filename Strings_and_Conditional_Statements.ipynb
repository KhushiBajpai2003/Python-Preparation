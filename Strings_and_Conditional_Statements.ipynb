{
  "nbformat": 4,
  "nbformat_minor": 0,
  "metadata": {
    "colab": {
      "provenance": []
    },
    "kernelspec": {
      "name": "python3",
      "display_name": "Python 3"
    },
    "language_info": {
      "name": "python"
    }
  },
  "cells": [
    {
      "cell_type": "markdown",
      "source": [
        "**Strings & Conditional Statements**"
      ],
      "metadata": {
        "id": "NzFhx1TcOv2G"
      }
    },
    {
      "cell_type": "code",
      "source": [
        "str1 = \"My name is khushi \\nI am currently pursuing my bachelors in computer Science.\"\n",
        "print(str1)"
      ],
      "metadata": {
        "colab": {
          "base_uri": "https://localhost:8080/"
        },
        "id": "ocXsZOU8LXrG",
        "outputId": "ca5b2c79-e4d6-486e-a188-dbb2d982d82c"
      },
      "execution_count": null,
      "outputs": [
        {
          "output_type": "stream",
          "name": "stdout",
          "text": [
            "My name is khushi \n",
            "I am currently pursuing my bachelors in computer Science.\n"
          ]
        }
      ]
    },
    {
      "cell_type": "code",
      "source": [
        "str1 = \"Khushi\"  # String Concatenation\n",
        "str2 = \"Bajpai\"\n",
        "str3 = str1+str2\n",
        "print(str1 +\" \"+str2)\n",
        "print(len(str1))  # lenghth of String\n",
        "print(len(str3))"
      ],
      "metadata": {
        "id": "0nr2bNumP1rP",
        "colab": {
          "base_uri": "https://localhost:8080/"
        },
        "outputId": "d8c49f03-6341-45f5-9103-753082c736fa"
      },
      "execution_count": null,
      "outputs": [
        {
          "output_type": "stream",
          "name": "stdout",
          "text": [
            "Khushi Bajpai\n",
            "6\n",
            "12\n"
          ]
        }
      ]
    },
    {
      "cell_type": "code",
      "source": [
        "str = \"Khushi Bajpai\" # Indexing\n",
        "ch = str[0]\n",
        "print(ch)\n",
        "print(str[3])"
      ],
      "metadata": {
        "colab": {
          "base_uri": "https://localhost:8080/"
        },
        "id": "7Hncm6NCGSH9",
        "outputId": "741f8934-0d33-4f45-9075-f0cd6423fdd4"
      },
      "execution_count": null,
      "outputs": [
        {
          "output_type": "stream",
          "name": "stdout",
          "text": [
            "K\n",
            "s\n"
          ]
        }
      ]
    },
    {
      "cell_type": "code",
      "source": [
        "# Slicing ---> str[starting_idx : ending_idx].....ending_idx is not included\n",
        "str = \"Khushi Bajpai\"\n",
        "print(str[1:4])\n",
        "print(str[:5]) # same as [0:5]\n",
        "print(str[5:]) #same as [5: len(str)]\n",
        "print(str[:])\n",
        "print(str[-3:-1])  # Negative Indexing"
      ],
      "metadata": {
        "colab": {
          "base_uri": "https://localhost:8080/"
        },
        "id": "AWEcBO0dHjc6",
        "outputId": "5208330e-3257-4f8d-d867-22df7801c947"
      },
      "execution_count": null,
      "outputs": [
        {
          "output_type": "stream",
          "name": "stdout",
          "text": [
            "hus\n",
            "Khush\n",
            "i Bajpai\n",
            "Khushi Bajpai\n",
            "pa\n"
          ]
        }
      ]
    },
    {
      "cell_type": "code",
      "source": [
        "str = \"i am a coder\"\n",
        "print(str.endswith(\"er\")) # returns true if the string ends with substring\n",
        "print(str.capitalize())    # capitalize 1st char\n",
        "print(str.replace(\"coder\", \"girl\")) # replaces all the old occurences with the new one\n",
        "print(str.find(\"coder\"))   # returns the 1st index of the 1st occurence\n",
        "print(str.count(\"am\"))  # returns the count of occurence of substring"
      ],
      "metadata": {
        "colab": {
          "base_uri": "https://localhost:8080/"
        },
        "id": "8whV7KdKJWBp",
        "outputId": "8cb7cd85-3210-41e5-e172-c95d28fe2ea8"
      },
      "execution_count": null,
      "outputs": [
        {
          "output_type": "stream",
          "name": "stdout",
          "text": [
            "True\n",
            "I am a coder\n",
            "i am a girl\n",
            "7\n",
            "1\n"
          ]
        }
      ]
    },
    {
      "cell_type": "code",
      "source": [
        "str = input(\"Enter your name:\")\n",
        "print(len(str))"
      ],
      "metadata": {
        "colab": {
          "base_uri": "https://localhost:8080/"
        },
        "id": "U2ajBwtIKYjs",
        "outputId": "83141557-387f-4d46-c308-365841ba583f"
      },
      "execution_count": null,
      "outputs": [
        {
          "output_type": "stream",
          "name": "stdout",
          "text": [
            "Enter your name:Khushi\n",
            "6\n"
          ]
        }
      ]
    },
    {
      "cell_type": "code",
      "source": [
        "str = \"@$khushi@$\"\n",
        "print(str.count(\"$\"))"
      ],
      "metadata": {
        "colab": {
          "base_uri": "https://localhost:8080/"
        },
        "id": "phfNcWtqNT2-",
        "outputId": "dd0fcdf7-fbff-4d03-fc53-174bd7da96ba"
      },
      "execution_count": null,
      "outputs": [
        {
          "output_type": "stream",
          "name": "stdout",
          "text": [
            "2\n"
          ]
        }
      ]
    },
    {
      "cell_type": "code",
      "source": [
        "age = int(input(\"Enter your age:\"))          # if-else conditional statements\n",
        "if(age>=18):\n",
        "  print(\"you are eligible for license\")\n",
        "else:\n",
        "  print(\"you are not eligible for driving\")"
      ],
      "metadata": {
        "colab": {
          "base_uri": "https://localhost:8080/"
        },
        "id": "spKoKJwpNe_q",
        "outputId": "550b3dde-6283-46d1-d35f-b1706b8149a5"
      },
      "execution_count": null,
      "outputs": [
        {
          "output_type": "stream",
          "name": "stdout",
          "text": [
            "Enter your age:17\n",
            "you are not eligible for driving\n"
          ]
        }
      ]
    },
    {
      "cell_type": "code",
      "source": [
        "a = int(input(\"Enter a number:\"))          # if-elif-else conditional statements\n",
        "b = int(input(\"Enter a number:\"))\n",
        "c = int(input(\"Enter a number:\"))\n",
        "if(a>b and a>c):\n",
        "  print(a,\"is greater\")\n",
        "elif(b>a and b>c):\n",
        "  print(b,\"is greater\")\n",
        "else:\n",
        "  print(c,\"is greater\")"
      ],
      "metadata": {
        "colab": {
          "base_uri": "https://localhost:8080/"
        },
        "id": "A5fu_GvdOMWF",
        "outputId": "43a72bc8-402c-4d95-d06c-41af77070130"
      },
      "execution_count": null,
      "outputs": [
        {
          "output_type": "stream",
          "name": "stdout",
          "text": [
            "Enter a number:5\n",
            "Enter a number:10\n",
            "Enter a number:15\n",
            "15 is greater\n"
          ]
        }
      ]
    },
    {
      "cell_type": "code",
      "source": [
        "traffic_light = input(\"Enter the color of traffic light:\")\n",
        "if(traffic_light==\"red\"):\n",
        "  print(\"Stop\")\n",
        "elif(traffic_light==\"yellow\"):\n",
        "  print(\"Get Ready\")\n",
        "elif(traffic_light==\"green\"):\n",
        "  print(\"Go\")\n",
        "else:\n",
        "  print(\"Invalid\")"
      ],
      "metadata": {
        "colab": {
          "base_uri": "https://localhost:8080/"
        },
        "id": "Et1b915cOnkr",
        "outputId": "235461dd-f924-4dbf-892b-cc325235c555"
      },
      "execution_count": null,
      "outputs": [
        {
          "output_type": "stream",
          "name": "stdout",
          "text": [
            "Enter the color of traffic light:red\n",
            "Stop\n"
          ]
        }
      ]
    },
    {
      "cell_type": "code",
      "source": [
        "marks = int(input(\"Enter your marks:\"))\n",
        "if(marks>=90):\n",
        "  print(\"Grade A\")\n",
        "elif(marks>=80):\n",
        "  print(\"Grade B\")\n",
        "elif(marks>=70):\n",
        "  print(\"Grade C\")\n",
        "# elif(marks<70):\n",
        "#   print(\"Grade D\")\n",
        "else:\n",
        "  print(\"Grade D\")"
      ],
      "metadata": {
        "colab": {
          "base_uri": "https://localhost:8080/"
        },
        "id": "EzKm7_cjO7sZ",
        "outputId": "a052b755-370a-4dd1-bece-ec4f0319c0b9"
      },
      "execution_count": null,
      "outputs": [
        {
          "output_type": "stream",
          "name": "stdout",
          "text": [
            "Enter your marks:60\n",
            "Grade D\n"
          ]
        }
      ]
    },
    {
      "cell_type": "code",
      "source": [
        "age = int(input(\"Enter your age:\"))   # Nested-if conditional statements\n",
        "if(age>=16):\n",
        "  if(age<18 and age>=16):\n",
        "    print(\"you can have a learning driving license for motorcycle.\")\n",
        "  else:\n",
        "    print(\"You are eligible for permanent driving license. \")\n",
        "else:\n",
        "  print(\"You are not eligible to drive.\")"
      ],
      "metadata": {
        "colab": {
          "base_uri": "https://localhost:8080/"
        },
        "id": "VzU96dhMQIxD",
        "outputId": "5345fd89-da8f-4dbe-9bef-24db9de790b0"
      },
      "execution_count": null,
      "outputs": [
        {
          "output_type": "stream",
          "name": "stdout",
          "text": [
            "Enter your age:18\n",
            "You are eligible for permanent driving license. \n"
          ]
        }
      ]
    },
    {
      "cell_type": "code",
      "source": [
        "num = int(input(\"Enter a number:\"))\n",
        "if(num%2==0):\n",
        "  print(\"Even\")\n",
        "else:\n",
        "  print(\"Odd\")"
      ],
      "metadata": {
        "colab": {
          "base_uri": "https://localhost:8080/"
        },
        "id": "x-9m7nXiR4Ir",
        "outputId": "7c6d8e7f-3046-40c1-ef8e-b025556a2044"
      },
      "execution_count": null,
      "outputs": [
        {
          "output_type": "stream",
          "name": "stdout",
          "text": [
            "Enter a number:5\n",
            "Odd\n"
          ]
        }
      ]
    },
    {
      "cell_type": "code",
      "source": [
        "num = int(input(\"Enter a number:\"))\n",
        "if(num%7==0):\n",
        "  print(\"Number is a multiple of seven.\")\n",
        "else:\n",
        "  print(\"Number is  not a multiple of seven.\")"
      ],
      "metadata": {
        "colab": {
          "base_uri": "https://localhost:8080/"
        },
        "id": "1PDyh4lxS_Iw",
        "outputId": "5fa89cdd-ad61-46f1-fca5-999bc20140d9"
      },
      "execution_count": null,
      "outputs": [
        {
          "output_type": "stream",
          "name": "stdout",
          "text": [
            "Enter a number:7\n",
            "Number is a multiple of seven.\n"
          ]
        }
      ]
    },
    {
      "cell_type": "code",
      "source": [
        "a = int(input(\"Enter a number:\"))          # if-elif-else conditional statements\n",
        "b = int(input(\"Enter a number:\"))\n",
        "c = int(input(\"Enter a number:\"))\n",
        "d = int(input(\"Enter a number:\"))\n",
        "if(a>b and a>c and a>d):\n",
        "  print(a,\"is greater\")\n",
        "elif(b>a and b>c and b>d):\n",
        "  print(b,\"is greater\")\n",
        "elif(c>a and c>b and c>d):\n",
        "  print(c,\"is a greater\")\n",
        "else:\n",
        "  print(d,\"is a greater\")"
      ],
      "metadata": {
        "colab": {
          "base_uri": "https://localhost:8080/"
        },
        "id": "i6iT6LOwTi3p",
        "outputId": "eb72c3bf-1a1a-482e-da17-82d48b933986"
      },
      "execution_count": null,
      "outputs": [
        {
          "output_type": "stream",
          "name": "stdout",
          "text": [
            "Enter a number:40\n",
            "Enter a number:30\n",
            "Enter a number:20\n",
            "Enter a number:10\n",
            "40 is greater\n"
          ]
        }
      ]
    },
    {
      "cell_type": "code",
      "source": [],
      "metadata": {
        "id": "8xDUAXJjUGdx"
      },
      "execution_count": null,
      "outputs": []
    }
  ]
}